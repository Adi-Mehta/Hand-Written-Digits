{
  "nbformat": 4,
  "nbformat_minor": 0,
  "metadata": {
    "colab": {
      "name": "Assignment6.ipynb",
      "version": "0.3.2",
      "provenance": []
    },
    "kernelspec": {
      "name": "python3",
      "display_name": "Python 3"
    }
  },
  "cells": [
    {
      "metadata": {
        "id": "CjZ7k6t3nDbW",
        "colab_type": "code",
        "colab": {}
      },
      "cell_type": "code",
      "source": [
        "from PIL import Image\n",
        "import numpy as np\n",
        "import matplotlib.pyplot as plt\n",
        "%matplotlib inline\n",
        "import tensorflow as tf"
      ],
      "execution_count": 0,
      "outputs": []
    },
    {
      "metadata": {
        "id": "R1ucQC7rrwHj",
        "colab_type": "code",
        "colab": {
          "base_uri": "https://localhost:8080/",
          "height": 35
        },
        "outputId": "b9d5b001-f055-456c-d94e-bf0528c96a2b"
      },
      "cell_type": "code",
      "source": [
        "(x_train, y_train), (x_test, y_test) = tf.keras.datasets.mnist.load_data()\n",
        "x_train.shape, y_train.shape, x_test.shape, y_test.shape"
      ],
      "execution_count": 28,
      "outputs": [
        {
          "output_type": "execute_result",
          "data": {
            "text/plain": [
              "((60000, 28, 28), (60000,), (10000, 28, 28), (10000,))"
            ]
          },
          "metadata": {
            "tags": []
          },
          "execution_count": 28
        }
      ]
    },
    {
      "metadata": {
        "id": "5SAoY_tqt8jE",
        "colab_type": "code",
        "colab": {
          "base_uri": "https://localhost:8080/",
          "height": 283
        },
        "outputId": "dbfccbb1-c114-4e91-86e8-bd07be1735a3"
      },
      "cell_type": "code",
      "source": [
        "image_index= 52_085\n",
        "print(y_train[image_index], 'index:', image_index)\n",
        "plt.imshow(x_train[image_index], cmap='Greys');"
      ],
      "execution_count": 29,
      "outputs": [
        {
          "output_type": "stream",
          "text": [
            "3 index: 52085\n"
          ],
          "name": "stdout"
        },
        {
          "output_type": "display_data",
          "data": {
            "image/png": "[encoded data removed]",
            "text/plain": [
              "<matplotlib.figure.Figure at 0x7fc2c2996470>"
            ]
          },
          "metadata": {
            "tags": []
          }
        }
      ]
    },
    {
      "metadata": {
        "id": "u5Ju4PJ-vSKp",
        "colab_type": "code",
        "colab": {
          "base_uri": "https://localhost:8080/",
          "height": 69
        },
        "outputId": "89ca0823-c98e-42f5-eba9-0dad350f477b"
      },
      "cell_type": "code",
      "source": [
        "n_images_train= x_train.shape[0]\n",
        "n_images_test=x_test.shape[0]\n",
        "\n",
        "x_train = x_train.reshape(n_images_train, 28, 28, 1)\n",
        "x_test = x_test.reshape(n_images_test, 28, 28, 1)\n",
        "input_shape=[28,28,1]\n",
        "\n",
        "x_train = x_train.astype('float32')   #we need decimals after dividing\n",
        "x_test = x_test.astype('float32')    #we need decimals after dividing\n",
        "\n",
        "x_train /= 255 #dividing by max RGB value for train and test\n",
        "x_test /= 255\n",
        "\n",
        "print('x_train shape:', x_train.shape)\n",
        "print(n_images_train, 'images in x_train') #prints number of images in test\n",
        "print(n_images_test, 'images in x_test') #prints number of images in test"
      ],
      "execution_count": 11,
      "outputs": [
        {
          "output_type": "stream",
          "text": [
            "x_train shape: (60000, 28, 28, 1)\n",
            "60000 images in x_train\n",
            "10000 images in x_test\n"
          ],
          "name": "stdout"
        }
      ]
    },
    {
      "metadata": {
        "id": "26oVCOFxBtgV",
        "colab_type": "code",
        "colab": {}
      },
      "cell_type": "code",
      "source": [
        "from keras.models import Sequential\n",
        "from keras.layers import Dense, Conv2D, Dropout, Flatten, MaxPooling2D\n",
        "\n",
        "model = Sequential()    #create model and we will add 8 layers\n",
        "\n",
        "model.add(Conv2D(32, kernel_size=(5,5),    #convolution for edge detection\n",
        "                input_shape=input_shape))\n",
        "\n",
        "model.add(MaxPooling2D(pool_size=(2, 2)))   #pooling reduce pixel volume by half\n",
        "\n",
        "model.add(Conv2D(64, kernel_size=(5,5),    #convolution\n",
        "                input_shape=input_shape))\n",
        "\n",
        "model.add(MaxPooling2D(pool_size=(2,2)))   #pooling reduce pixel volume by half\n",
        "\n",
        "model.add(Flatten())   #flatten to create pixel highway\n",
        "\n",
        "model.add(Dense(1024,      #Dense\n",
        "               activation=tf.nn.relu))\n",
        "\n",
        "model.add(Dropout(0.2))    #drop 20% of connections\n",
        "\n",
        "model.add(Dense(10,\n",
        "               activation=tf.nn.softmax))      #dense\n",
        "\n",
        "model.compile(optimizer='adam',\n",
        "             loss='sparse_categorical_crossentropy',\n",
        "             metrics=['accuracy'])"
      ],
      "execution_count": 0,
      "outputs": []
    },
    {
      "metadata": {
        "id": "aNaJB8_nDiLj",
        "colab_type": "code",
        "colab": {
          "base_uri": "https://localhost:8080/",
          "height": 191
        },
        "outputId": "e02bb0fb-08de-4d46-c460-6e38f9d759bf"
      },
      "cell_type": "code",
      "source": [
        "model.fit(x=x_train,y=y_train, epochs=5); #fit model with 5 epochs, meanig 5 forward and 5 backward passes"
      ],
      "execution_count": 17,
      "outputs": [
        {
          "output_type": "stream",
          "text": [
            "Epoch 1/5\n",
            "60000/60000 [==============================] - 122s 2ms/step - loss: 0.2686 - acc: 0.9122\n",
            "Epoch 2/5\n",
            "60000/60000 [==============================] - 121s 2ms/step - loss: 0.0691 - acc: 0.9788\n",
            "Epoch 3/5\n",
            "60000/60000 [==============================] - 122s 2ms/step - loss: 0.0503 - acc: 0.9846\n",
            "Epoch 4/5\n",
            "60000/60000 [==============================] - 123s 2ms/step - loss: 0.0391 - acc: 0.9877\n",
            "Epoch 5/5\n",
            "60000/60000 [==============================] - 117s 2ms/step - loss: 0.0307 - acc: 0.9900\n"
          ],
          "name": "stdout"
        }
      ]
    },
    {
      "metadata": {
        "id": "E_fy_OVvD3Rl",
        "colab_type": "code",
        "colab": {
          "base_uri": "https://localhost:8080/",
          "height": 35
        },
        "outputId": "ccf1aaa4-1021-4d58-d685-b14883ec601d"
      },
      "cell_type": "code",
      "source": [
        "test_error=model.evaluate(x_test, y_test, verbose=0)\n",
        "print(f\"Mean squared error (MSE) for test data: {test_error}\") #prin mse and test erro rate"
      ],
      "execution_count": 21,
      "outputs": [
        {
          "output_type": "stream",
          "text": [
            "Mean squared error (MSE) for test data: [0.03582345545403659, 0.9885]\n"
          ],
          "name": "stdout"
        }
      ]
    },
    {
      "metadata": {
        "id": "osl7tClaGUmL",
        "colab_type": "code",
        "colab": {}
      },
      "cell_type": "code",
      "source": [
        "model.save('trained_model.h5') #saving model"
      ],
      "execution_count": 0,
      "outputs": []
    },
    {
      "metadata": {
        "id": "x80fyWZaHJeE",
        "colab_type": "code",
        "colab": {
          "base_uri": "https://localhost:8080/",
          "height": 300
        },
        "outputId": "3a76e3aa-a220-487e-e307-3044463e142f"
      },
      "cell_type": "code",
      "source": [
        "import keras.models \n",
        "model_loaded=keras.models.load_model(\"trained_model.h5\")\n",
        "\n",
        "image_index=3666 \n",
        "\n",
        "plt.imshow(x_test[image_index].reshape(28, 28),cmap='Greys')\n",
        "pred = model_loaded.predict(x_test[image_index].reshape(1,28,28,1))\n",
        "print(\"Predicted value\", pred.argmax(),pred)"
      ],
      "execution_count": 26,
      "outputs": [
        {
          "output_type": "stream",
          "text": [
            "Predicted value 9 [[1.3715300e-13 4.4156163e-12 1.4739278e-10 2.0876574e-07 4.2856995e-05\n",
            "  3.2865737e-09 1.7276034e-13 4.9705358e-07 2.0587881e-06 9.9995446e-01]]\n"
          ],
          "name": "stdout"
        },
        {
          "output_type": "display_data",
          "data": {
            "image/png": "[encoded data removed]",
            "text/plain": [
              "<matplotlib.figure.Figure at 0x7fc2bed3aba8>"
            ]
          },
          "metadata": {
            "tags": []
          }
        }
      ]
    }
  ]
}